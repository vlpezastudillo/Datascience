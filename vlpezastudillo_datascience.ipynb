{
 "cells": [
  {
   "cell_type": "markdown",
   "metadata": {},
   "source": [
    "<center>\n",
    "    <img src=\"https://cf-courses-data.s3.us.cloud-object-storage.appdomain.cloud/IBMDeveloperSkillsNetwork-DS0105EN-SkillsNetwork/labs/Module2/images/SN_web_lightmode.png\" width=\"300\" alt=\"cognitiveclass.ai logo\">\n",
    "</center>\n"
   ]
  },
  {
   "cell_type": "markdown",
   "metadata": {},
   "source": [
    "#### Add your code below following the instructions given in the course\n"
   ]
  },
  {
   "cell_type": "code",
   "execution_count": null,
   "metadata": {},
   "outputs": [],
   "source": []
  },
  {
   "cell_type": "markdown",
   "metadata": {},
   "source": [
    "# Proyecto Final de Ciencia de Datos v.lpezastudillo\n"
   ]
  },
  {
   "cell_type": "markdown",
   "metadata": {},
   "source": [
    "## Introducción\n",
    "\n",
    "Este proyecto final tiene como objetivo aplicar los conceptos y herramientas de ciencia de datos aprendidos a lo largo del curso. Utilizaremos técnicas de análisis de datos, visualización y modelado para abordar un problema real, integrando el uso de herramientas como Python, Pandas, Matplotlib y Scikit-Learn. Este cuaderno permitirá ver el flujo de trabajo completo de un proyecto de ciencia de datos.\n"
   ]
  },
  {
   "cell_type": "markdown",
   "metadata": {},
   "source": [
    "## Lenguajes de Programación en Ciencia de Datos\n",
    "\n",
    "A continuación se presentan algunos de los lenguajes más utilizados en la ciencia de datos:\n",
    "\n",
    "- **Python**: Popular por su simplicidad y gran cantidad de bibliotecas para el análisis y modelado de datos, como Pandas, NumPy, Scikit-Learn y TensorFlow.\n",
    "- **R**: Ampliamente utilizado en estadística y análisis de datos, especialmente en la academia y sectores de investigación.\n",
    "- **SQL**: Esencial para manejar y consultar bases de datos relacionales.\n",
    "- **Julia**: Conocido por su rendimiento en cálculos numéricos y científicos, ganando popularidad en ciencia de datos.\n",
    "- **Java**: Utilizado principalmente en grandes sistemas de producción y procesamiento de datos a escala.\n",
    "- **Scala**: Comúnmente usado junto con Apache Spark para procesamiento de datos a gran escala.\n",
    "\n"
   ]
  },
  {
   "cell_type": "markdown",
   "metadata": {},
   "source": [
    "## Bibliotecas de Ciencia de Datos\n",
    "\n",
    "A continuación, se presentan algunas de las bibliotecas más populares en ciencia de datos:\n",
    "\n",
    "- **Pandas**: Utilizada para la manipulación y análisis de datos, especialmente con estructuras como DataFrames.\n",
    "- **NumPy**: Proporciona soporte para grandes matrices y operaciones matemáticas complejas.\n",
    "- **Matplotlib**: Biblioteca fundamental para crear visualizaciones de datos en 2D.\n",
    "- **Seaborn**: Basada en Matplotlib, facilita la creación de gráficos estadísticos atractivos y complejos.\n",
    "- **Scikit-Learn**: Ofrece herramientas de aprendizaje automático para tareas como clasificación, regresión y clustering.\n",
    "- **TensorFlow**: Framework de aprendizaje profundo desarrollado por Google, popular para construir modelos de redes neuronales.\n",
    "- **Keras**: Biblioteca de alto nivel para redes neuronales, que funciona en conjunto con TensorFlow para simplificar el desarrollo de modelos.\n",
    "- **Statsmodels**: Usada para análisis estadístico y estimación de modelos.\n",
    "- **NLTK**: Biblioteca para el procesamiento de lenguaje natural en aplicaciones de análisis de texto.\n"
   ]
  },
  {
   "cell_type": "markdown",
   "metadata": {},
   "source": [
    "## Herramientas de Ciencia de Datos\n",
    "\n",
    "La siguiente tabla enumera algunas herramientas populares en ciencia de datos, junto con sus descripciones y propósitos:\n",
    "\n",
    "| Herramienta        | Descripción                                                                 | Propósito                             |\n",
    "|--------------------|-----------------------------------------------------------------------------|---------------------------------------|\n",
    "| Jupyter Notebook   | Entorno interactivo para escribir y ejecutar código en Python.              | Análisis de datos y prototipado       |\n",
    "| RStudio            | Entorno de desarrollo integrado (IDE) para el lenguaje R.                  | Análisis estadístico y visualización  |\n",
    "| Apache Spark       | Motor de procesamiento de datos a gran escala, compatible con varios lenguajes. | Procesamiento de Big Data            |\n",
    "| Tableau            | Herramienta de visualización de datos con interfaz gráfica intuitiva.      | Visualización y análisis de datos     |\n",
    "| TensorFlow         | Biblioteca de código abierto para aprendizaje profundo.                    | Modelado de redes neuronales          |\n",
    "| Power BI           | Herramienta de análisis empresarial con capacidades de visualización.      | BI y visualización de datos           |\n",
    "| IBM Watson Studio  | Plataforma para ciencia de datos, IA y machine learning en la nube.        | Desarrollo y despliegue de modelos    |\n"
   ]
  },
  {
   "cell_type": "markdown",
   "metadata": {},
   "source": [
    "## Ejemplos de Expresiones Aritméticas\n",
    "\n",
    "En ciencia de datos y programación, las expresiones aritméticas se utilizan para realizar cálculos básicos. Aquí algunos ejemplos comunes de expresiones aritméticas:\n",
    "\n",
    "- **Suma**: `5 + 3` da como resultado 8.\n",
    "- **Resta**: `10 - 4` da como resultado 6.\n",
    "- **Multiplicación**: `6 * 7` da como resultado 42.\n",
    "- **División**: `20 / 4` da como resultado 5.\n",
    "- **Potencia**: `2 ** 3` (2 elevado a la potencia 3) da como resultado 8.\n",
    "- **Módulo**: `10 % 3` da como resultado 1 (el residuo de la división de 10 entre 3).\n"
   ]
  },
  {
   "cell_type": "code",
   "execution_count": 2,
   "metadata": {},
   "outputs": [
    {
     "name": "stdout",
     "output_type": "stream",
     "text": [
      "La suma de los números es: 8\n",
      "La multiplicación de los números es: 15\n"
     ]
    }
   ],
   "source": [
    "# Ejercicio de multiplicación y suma\n",
    "# Definimos dos números\n",
    "numero1 = 5\n",
    "numero2 = 3\n",
    "\n",
    "# Realizamos las operaciones\n",
    "suma = numero1 + numero2\n",
    "multiplicacion = numero1 * numero2\n",
    "\n",
    "# Mostramos los resultados\n",
    "print(\"La suma de los números es:\", suma)\n",
    "print(\"La multiplicación de los números es:\", multiplicacion)\n"
   ]
  },
  {
   "cell_type": "code",
   "execution_count": null,
   "metadata": {},
   "outputs": [],
   "source": []
  },
  {
   "cell_type": "code",
   "execution_count": 3,
   "metadata": {},
   "outputs": [
    {
     "name": "stdout",
     "output_type": "stream",
     "text": [
      "150 minutos son equivalentes a 2.5 horas.\n"
     ]
    }
   ],
   "source": [
    "# Ejercicio de conversión de minutos a horas\n",
    "# Definimos el número de minutos\n",
    "minutos = 150  # Puedes cambiar este valor para probar otros resultados\n",
    "\n",
    "# Convertimos minutos a horas\n",
    "horas = minutos / 60\n",
    "\n",
    "# Mostramos el resultado\n",
    "print(f\"{minutos} minutos son equivalentes a {horas} horas.\")\n"
   ]
  },
  {
   "cell_type": "code",
   "execution_count": 4,
   "metadata": {},
   "outputs": [
    {
     "name": "stdout",
     "output_type": "stream",
     "text": [
      "Objetivos del Proyecto:\n",
      "- Aplicar técnicas de análisis de datos para obtener insights.\n",
      "- Utilizar visualizaciones para representar patrones y tendencias.\n",
      "- Desarrollar y evaluar modelos de machine learning para realizar predicciones.\n",
      "- Demostrar el flujo de trabajo completo de un proyecto de ciencia de datos.\n",
      "- Documentar y presentar los hallazgos de manera clara y concisa.\n"
     ]
    }
   ],
   "source": [
    "# Lista de Objetivos del Proyecto\n",
    "objetivos = [\n",
    "    \"Aplicar técnicas de análisis de datos para obtener insights.\",\n",
    "    \"Utilizar visualizaciones para representar patrones y tendencias.\",\n",
    "    \"Desarrollar y evaluar modelos de machine learning para realizar predicciones.\",\n",
    "    \"Demostrar el flujo de trabajo completo de un proyecto de ciencia de datos.\",\n",
    "    \"Documentar y presentar los hallazgos de manera clara y concisa.\"\n",
    "]\n",
    "\n",
    "# Mostramos la lista de objetivos\n",
    "print(\"Objetivos del Proyecto:\")\n",
    "for objetivo in objetivos:\n",
    "    print(\"-\", objetivo)\n"
   ]
  },
  {
   "cell_type": "markdown",
   "metadata": {},
   "source": [
    "## Autor\n",
    "\n",
    "**Nombre del Autor:** Victor López\n"
   ]
  },
  {
   "cell_type": "code",
   "execution_count": null,
   "metadata": {},
   "outputs": [],
   "source": []
  }
 ],
 "metadata": {
  "kernelspec": {
   "display_name": "Python 3 (ipykernel)",
   "language": "python",
   "name": "python3"
  },
  "language_info": {
   "codemirror_mode": {
    "name": "ipython",
    "version": 3
   },
   "file_extension": ".py",
   "mimetype": "text/x-python",
   "name": "python",
   "nbconvert_exporter": "python",
   "pygments_lexer": "ipython3",
   "version": "3.11.9"
  }
 },
 "nbformat": 4,
 "nbformat_minor": 4
}
